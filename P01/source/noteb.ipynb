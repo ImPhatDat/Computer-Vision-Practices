{
 "cells": [
  {
   "cell_type": "code",
   "execution_count": 5,
   "metadata": {},
   "outputs": [],
   "source": [
    "from binary_main import *"
   ]
  },
  {
   "cell_type": "code",
   "execution_count": 6,
   "metadata": {},
   "outputs": [],
   "source": [
    "Bs = [None for _ in range(8)]\n",
    "Bs[0] = np.array([[-1, -1, -1],\n",
    "                [0, 1, 0],\n",
    "                [1, 1, 1]], dtype=np.int8) # B1\n",
    "Bs[2], Bs[4], Bs[6] = [np.rot90(Bs[0], k + 1, axes=(1,0)) for k in range(3)]\n",
    "Bs[1] = np.array([[0, -1, -1],\n",
    "                [1, 1, -1],\n",
    "                [1, 1, 0]], dtype=np.int8) # B2\n",
    "Bs[3], Bs[5], Bs[7] = [np.rot90(Bs[1], k + 1, axes=(1,0)) for k in range(3)]"
   ]
  },
  {
   "cell_type": "code",
   "execution_count": 7,
   "metadata": {},
   "outputs": [
    {
     "data": {
      "text/plain": [
       "array([[ 0,  1,  1],\n",
       "       [-1,  1,  1],\n",
       "       [-1, -1,  0]], dtype=int8)"
      ]
     },
     "execution_count": 7,
     "metadata": {},
     "output_type": "execute_result"
    }
   ],
   "source": [
    "Bs[5]"
   ]
  },
  {
   "cell_type": "code",
   "execution_count": 2,
   "metadata": {},
   "outputs": [],
   "source": [
    "INPUT_PATH = \"../input/\"\n",
    "OUTPUT_PATH = \"../output/\""
   ]
  },
  {
   "cell_type": "code",
   "execution_count": null,
   "metadata": {},
   "outputs": [],
   "source": []
  },
  {
   "cell_type": "code",
   "execution_count": 3,
   "metadata": {},
   "outputs": [],
   "source": [
    "def read_output(path, wait_key_time=0):\n",
    "    img_gray = cv2.imread(path, 0)\n",
    "    (thresh, img) = cv2.threshold(img_gray, 128, 255, cv2.THRESH_BINARY | cv2.THRESH_OTSU)\n",
    "    cv2.imshow('output', img)\n",
    "    cv2.waitKey(wait_key_time)\n",
    "    cv2.destroyAllWindows()"
   ]
  }
 ],
 "metadata": {
  "kernelspec": {
   "display_name": "base",
   "language": "python",
   "name": "python3"
  },
  "language_info": {
   "codemirror_mode": {
    "name": "ipython",
    "version": 3
   },
   "file_extension": ".py",
   "mimetype": "text/x-python",
   "name": "python",
   "nbconvert_exporter": "python",
   "pygments_lexer": "ipython3",
   "version": "3.12.2"
  }
 },
 "nbformat": 4,
 "nbformat_minor": 2
}
