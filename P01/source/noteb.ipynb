{
 "cells": [
  {
   "cell_type": "code",
   "execution_count": 1,
   "metadata": {},
   "outputs": [],
   "source": [
    "from main import *"
   ]
  },
  {
   "cell_type": "code",
   "execution_count": 2,
   "metadata": {},
   "outputs": [],
   "source": [
    "INPUT_PATH = \"../input/\"\n",
    "OUTPUT_PATH = \"../output/\""
   ]
  },
  {
   "cell_type": "code",
   "execution_count": 1,
   "metadata": {},
   "outputs": [
    {
     "data": {
      "text/plain": [
       "array([[False, False, False, False, False],\n",
       "       [False,  True,  True,  True, False],\n",
       "       [False,  True,  True,  True, False],\n",
       "       [False,  True,  True,  True, False],\n",
       "       [False, False, False, False, False]])"
      ]
     },
     "execution_count": 1,
     "metadata": {},
     "output_type": "execute_result"
    }
   ],
   "source": [
    "import mahotas\n",
    "radius = 5\n",
    "mahotas.morph.disk(radius // 2)"
   ]
  },
  {
   "cell_type": "code",
   "execution_count": 37,
   "metadata": {},
   "outputs": [
    {
     "data": {
      "text/plain": [
       "array([[0, 0, 0, 0, 0, 1, 0, 0, 0, 0, 0],\n",
       "       [0, 0, 1, 1, 1, 1, 1, 1, 1, 0, 0],\n",
       "       [0, 1, 1, 1, 1, 1, 1, 1, 1, 1, 0],\n",
       "       [0, 1, 1, 1, 1, 1, 1, 1, 1, 1, 0],\n",
       "       [0, 1, 1, 1, 1, 1, 1, 1, 1, 1, 0],\n",
       "       [1, 1, 1, 1, 1, 1, 1, 1, 1, 1, 1],\n",
       "       [0, 1, 1, 1, 1, 1, 1, 1, 1, 1, 0],\n",
       "       [0, 1, 1, 1, 1, 1, 1, 1, 1, 1, 0],\n",
       "       [0, 1, 1, 1, 1, 1, 1, 1, 1, 1, 0],\n",
       "       [0, 0, 1, 1, 1, 1, 1, 1, 1, 0, 0],\n",
       "       [0, 0, 0, 0, 0, 1, 0, 0, 0, 0, 0]], dtype=uint8)"
      ]
     },
     "execution_count": 37,
     "metadata": {},
     "output_type": "execute_result"
    }
   ],
   "source": [
    "import numpy as np\n",
    "radius = 5\n",
    "L = np.arange(-radius, radius+1)\n",
    "X, Y = np.meshgrid(L, L)\n",
    "disk = (X**2 + Y**2) <= radius**2\n",
    "disk.astype(np.uint8)"
   ]
  },
  {
   "cell_type": "code",
   "execution_count": 36,
   "metadata": {},
   "outputs": [
    {
     "data": {
      "text/plain": [
       "array([[0, 0, 0, 0, 1, 1, 1, 0, 0, 0, 0],\n",
       "       [0, 0, 1, 1, 1, 1, 1, 1, 1, 0, 0],\n",
       "       [0, 1, 1, 1, 1, 1, 1, 1, 1, 1, 0],\n",
       "       [0, 1, 1, 1, 1, 1, 1, 1, 1, 1, 0],\n",
       "       [1, 1, 1, 1, 1, 1, 1, 1, 1, 1, 1],\n",
       "       [1, 1, 1, 1, 1, 1, 1, 1, 1, 1, 1],\n",
       "       [1, 1, 1, 1, 1, 1, 1, 1, 1, 1, 1],\n",
       "       [0, 1, 1, 1, 1, 1, 1, 1, 1, 1, 0],\n",
       "       [0, 1, 1, 1, 1, 1, 1, 1, 1, 1, 0],\n",
       "       [0, 0, 1, 1, 1, 1, 1, 1, 1, 0, 0],\n",
       "       [0, 0, 0, 0, 1, 1, 1, 0, 0, 0, 0]], dtype=uint8)"
      ]
     },
     "execution_count": 36,
     "metadata": {},
     "output_type": "execute_result"
    }
   ],
   "source": [
    "radius = 5\n",
    "\n",
    "kernel = np.zeros((2*radius+1, 2*radius+1) ,np.uint8)\n",
    "y,x = np.ogrid[-radius:radius+1, -radius:radius+1]\n",
    "mask = x**2 + y**2 <= radius**2\n",
    "kernel[mask] = 1\n",
    "kernel[0,radius-1:kernel.shape[1]-radius+1] = 1\n",
    "kernel[kernel.shape[0]-1,radius-1:kernel.shape[1]-radius+1]= 1\n",
    "kernel[radius-1:kernel.shape[0]-radius+1,0] = 1\n",
    "kernel[radius-1:kernel.shape[0]-radius+1,kernel.shape[1]-1] = 1\n",
    "kernel"
   ]
  },
  {
   "cell_type": "code",
   "execution_count": 4,
   "metadata": {},
   "outputs": [
    {
     "data": {
      "text/plain": [
       "array([[0, 0, 0, 0, 0, 0, 0, 0, 0, 0, 0],\n",
       "       [0, 0, 0, 1, 1, 1, 1, 1, 0, 0, 0],\n",
       "       [0, 0, 1, 1, 1, 1, 1, 1, 1, 0, 0],\n",
       "       [0, 1, 1, 1, 1, 1, 1, 1, 1, 1, 0],\n",
       "       [0, 1, 1, 1, 1, 1, 1, 1, 1, 1, 0],\n",
       "       [0, 1, 1, 1, 1, 1, 1, 1, 1, 1, 0],\n",
       "       [0, 1, 1, 1, 1, 1, 1, 1, 1, 1, 0],\n",
       "       [0, 1, 1, 1, 1, 1, 1, 1, 1, 1, 0],\n",
       "       [0, 0, 1, 1, 1, 1, 1, 1, 1, 0, 0],\n",
       "       [0, 0, 0, 1, 1, 1, 1, 1, 0, 0, 0],\n",
       "       [0, 0, 0, 0, 0, 0, 0, 0, 0, 0, 0]], dtype=uint8)"
      ]
     },
     "execution_count": 4,
     "metadata": {},
     "output_type": "execute_result"
    }
   ],
   "source": [
    "import mahotas \n",
    "import numpy as np\n",
    "radius = 5\n",
    "mahotas.disk(radius).astype(np.uint8)"
   ]
  },
  {
   "cell_type": "code",
   "execution_count": 1,
   "metadata": {},
   "outputs": [
    {
     "data": {
      "text/plain": [
       "array([[0, 0, 0, 0, 0, 1, 0, 0, 0, 0, 0],\n",
       "       [0, 0, 1, 1, 1, 1, 1, 1, 1, 0, 0],\n",
       "       [0, 1, 1, 1, 1, 1, 1, 1, 1, 1, 0],\n",
       "       [1, 1, 1, 1, 1, 1, 1, 1, 1, 1, 1],\n",
       "       [1, 1, 1, 1, 1, 1, 1, 1, 1, 1, 1],\n",
       "       [1, 1, 1, 1, 1, 1, 1, 1, 1, 1, 1],\n",
       "       [1, 1, 1, 1, 1, 1, 1, 1, 1, 1, 1],\n",
       "       [1, 1, 1, 1, 1, 1, 1, 1, 1, 1, 1],\n",
       "       [0, 1, 1, 1, 1, 1, 1, 1, 1, 1, 0],\n",
       "       [0, 0, 1, 1, 1, 1, 1, 1, 1, 0, 0],\n",
       "       [0, 0, 0, 0, 0, 1, 0, 0, 0, 0, 0]], dtype=uint8)"
      ]
     },
     "execution_count": 1,
     "metadata": {},
     "output_type": "execute_result"
    }
   ],
   "source": [
    "import cv2\n",
    "radius = 5\n",
    "cv2.getStructuringElement(cv2.MORPH_ELLIPSE, (2 * radius + 1, 2 * radius + 1))"
   ]
  },
  {
   "cell_type": "code",
   "execution_count": 2,
   "metadata": {},
   "outputs": [
    {
     "data": {
      "text/plain": [
       "array([[0, 0, 0, 0, 0, 1, 0, 0, 0, 0, 0],\n",
       "       [0, 0, 1, 1, 1, 1, 1, 1, 1, 0, 0],\n",
       "       [0, 1, 1, 1, 1, 1, 1, 1, 1, 1, 0],\n",
       "       [0, 1, 1, 1, 1, 1, 1, 1, 1, 1, 0],\n",
       "       [0, 1, 1, 1, 1, 1, 1, 1, 1, 1, 0],\n",
       "       [1, 1, 1, 1, 1, 1, 1, 1, 1, 1, 1],\n",
       "       [0, 1, 1, 1, 1, 1, 1, 1, 1, 1, 0],\n",
       "       [0, 1, 1, 1, 1, 1, 1, 1, 1, 1, 0],\n",
       "       [0, 1, 1, 1, 1, 1, 1, 1, 1, 1, 0],\n",
       "       [0, 0, 1, 1, 1, 1, 1, 1, 1, 0, 0],\n",
       "       [0, 0, 0, 0, 0, 1, 0, 0, 0, 0, 0]], dtype=uint8)"
      ]
     },
     "execution_count": 2,
     "metadata": {},
     "output_type": "execute_result"
    }
   ],
   "source": [
    "import skimage\n",
    "skimage.morphology.disk(5)"
   ]
  },
  {
   "cell_type": "code",
   "execution_count": 3,
   "metadata": {},
   "outputs": [],
   "source": [
    "def read_output(path, wait_key_time=0):\n",
    "    img_gray = cv2.imread(path, 0)\n",
    "    (thresh, img) = cv2.threshold(img_gray, 128, 255, cv2.THRESH_BINARY | cv2.THRESH_OTSU)\n",
    "    cv2.imshow('output', img)\n",
    "    cv2.waitKey(wait_key_time)\n",
    "    cv2.destroyAllWindows()"
   ]
  }
 ],
 "metadata": {
  "kernelspec": {
   "display_name": "base",
   "language": "python",
   "name": "python3"
  },
  "language_info": {
   "codemirror_mode": {
    "name": "ipython",
    "version": 3
   },
   "file_extension": ".py",
   "mimetype": "text/x-python",
   "name": "python",
   "nbconvert_exporter": "python",
   "pygments_lexer": "ipython3",
   "version": "3.12.2"
  }
 },
 "nbformat": 4,
 "nbformat_minor": 2
}
