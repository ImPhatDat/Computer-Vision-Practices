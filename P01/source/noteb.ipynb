{
 "cells": [
  {
   "cell_type": "code",
   "execution_count": 1,
   "metadata": {},
   "outputs": [],
   "source": [
    "from main import *"
   ]
  },
  {
   "cell_type": "code",
   "execution_count": 2,
   "metadata": {},
   "outputs": [],
   "source": [
    "INPUT_PATH = \"../input/\"\n",
    "OUTPUT_PATH = \"../output/\""
   ]
  },
  {
   "cell_type": "code",
   "execution_count": 3,
   "metadata": {},
   "outputs": [],
   "source": [
    "def read_output(path, wait_key_time=0):\n",
    "    img_gray = cv2.imread(path, 0)\n",
    "    (thresh, img) = cv2.threshold(img_gray, 128, 255, cv2.THRESH_BINARY | cv2.THRESH_OTSU)\n",
    "    cv2.imshow('output', img)\n",
    "    cv2.waitKey(wait_key_time)\n",
    "    cv2.destroyAllWindows()"
   ]
  },
  {
   "cell_type": "code",
   "execution_count": 4,
   "metadata": {},
   "outputs": [],
   "source": [
    "import cv2 as cv\n",
    "import numpy as np\n",
    "\n",
    "img_gray = cv2.imread(INPUT_PATH + \"sma.png\", 0)\n",
    "(thresh, img) = cv2.threshold(img_gray, 128, 255, cv2.THRESH_BINARY | cv2.THRESH_OTSU)\n",
    "\n",
    "\n",
    "cv.imshow(\"Original\", img)\n",
    "\n",
    "kernel = np.array((\n",
    "        [-1, -1, -1],\n",
    "        [0, 1, 0],\n",
    "        [1, 1, 1]), dtype=\"int\")\n",
    "output_image = binary.thinning(img, kernel)\n",
    "cv.imshow(\"Res\", output_image)\n",
    "cv.waitKey(0)\n",
    "\n",
    "kernel = np.array((\n",
    "        [0, -1, -1],\n",
    "        [1, 1, -1],\n",
    "        [1, 1, 0]), dtype=\"int\")\n",
    "output_image = binary.thinning(output_image, kernel)\n",
    "cv.imshow(\"Res\", output_image)\n",
    "cv.waitKey(0)\n",
    "\n",
    "\n",
    "kernel = np.array((\n",
    "        [1, 0, -1],\n",
    "        [1, 1, -1],\n",
    "        [1, 0, -1]), dtype=\"int\")\n",
    "output_image = binary.thinning(output_image, kernel)\n",
    "cv.imshow(\"Res\", output_image)\n",
    "cv.waitKey(0)\n",
    "\n",
    "cv.destroyAllWindows()"
   ]
  }
 ],
 "metadata": {
  "kernelspec": {
   "display_name": "base",
   "language": "python",
   "name": "python3"
  },
  "language_info": {
   "codemirror_mode": {
    "name": "ipython",
    "version": 3
   },
   "file_extension": ".py",
   "mimetype": "text/x-python",
   "name": "python",
   "nbconvert_exporter": "python",
   "pygments_lexer": "ipython3",
   "version": "3.12.2"
  }
 },
 "nbformat": 4,
 "nbformat_minor": 2
}
